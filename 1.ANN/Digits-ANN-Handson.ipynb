{
 "cells": [
  {
   "cell_type": "code",
   "execution_count": 1,
   "id": "4764335d-779d-47b6-bea5-1aaa9130c97b",
   "metadata": {},
   "outputs": [],
   "source": [
    "# Basic Libraries\n",
    "import numpy as np\n",
    "import pandas as pd\n",
    "\n",
    "# Visualization libraries\n",
    "import matplotlib.pyplot as plt\n",
    "import pydot\n",
    "import seaborn as sns\n",
    "\n",
    "#Evaluation library\n",
    "from sklearn.metrics import confusion_matrix\n",
    "from sklearn.metrics import accuracy_score\n",
    "from sklearn.model_selection import GridSearchCV\n",
    "\n",
    "# Deep Learning libraries\n",
    "import tensorflow as tf\n",
    "from tensorflow.keras import layers\n",
    "import keras\n",
    "from keras.models import Sequential\n",
    "from keras.layers.core import Dense,Activation,Dropout\n",
    "from keras.datasets import mnist\n",
    "from keras.utils.np_utils import to_categorical\n",
    "from keras.wrappers.scikit_learn import KerasClassifier"
   ]
  },
  {
   "cell_type": "code",
   "execution_count": 2,
   "id": "03ebc27f-9eaa-4209-9b66-2e574be3dec8",
   "metadata": {},
   "outputs": [],
   "source": [
    "#Digit MNIST dataset\n",
    "(X_train_digit, y_train_digit), (X_test_digit, y_test_digit) = mnist.load_data()"
   ]
  },
  {
   "cell_type": "markdown",
   "id": "b07b52ff-6e0c-402d-91c1-52270d5e8ab0",
   "metadata": {},
   "source": [
    "(X_train_digit, y_train_digit), (X_test_digit, y_test_digit) = mnist.load_data()\n",
    "    It loads the MNIST dataset (handwritten digit images) into four variables:\n",
    "    \n",
    "        X_train_digit — training images\n",
    "        \n",
    "        y_train_digit — training labels (which digit each image is)\n",
    "        \n",
    "        X_test_digit — test images\n",
    "        \n",
    "        y_test_digit — test labels\n",
    "    \n",
    "    MNIST is a classic dataset of 28×28 grayscale images of digits 0–9 used to learn image classification.\n",
    "\n",
    "X_train_digit and X_test_digit contents\n",
    "\n",
    "    They are NumPy arrays of images.\n",
    "    \n",
    "    Typical shape: (60000, 28, 28) for training and (10000, 28, 28) for testing:\n",
    "    \n",
    "    60000 images in training, 10000 in test.\n",
    "    \n",
    "    Each image is 28 pixels tall × 28 pixels wide.\n",
    "    \n",
    "    Pixel values are usually integers 0–255 (dtype uint8). 0 = black, 255 = white.\n",
    "    \n",
    "y_train_digit and y_test_digit contents\n",
    "    \n",
    "    1D NumPy arrays of integer labels, shape (60000,) and (10000,).\n",
    "    \n",
    "    Each label is an integer 0–9 telling which digit the corresponding image shows.    \n",
    "    "
   ]
  },
  {
   "cell_type": "code",
   "execution_count": 3,
   "id": "9129c3ea-bf71-448e-8465-79802314b719",
   "metadata": {},
   "outputs": [
    {
     "data": {
      "text/plain": [
       "0"
      ]
     },
     "execution_count": 3,
     "metadata": {},
     "output_type": "execute_result"
    }
   ],
   "source": [
    " y_test_digit[3]"
   ]
  },
  {
   "cell_type": "code",
   "execution_count": 4,
   "id": "fe2d4539-48e2-4147-a1b0-f514c08ee05e",
   "metadata": {},
   "outputs": [
    {
     "data": {
      "text/plain": [
       "array([[[0, 0, 0, ..., 0, 0, 0],\n",
       "        [0, 0, 0, ..., 0, 0, 0],\n",
       "        [0, 0, 0, ..., 0, 0, 0],\n",
       "        ...,\n",
       "        [0, 0, 0, ..., 0, 0, 0],\n",
       "        [0, 0, 0, ..., 0, 0, 0],\n",
       "        [0, 0, 0, ..., 0, 0, 0]],\n",
       "\n",
       "       [[0, 0, 0, ..., 0, 0, 0],\n",
       "        [0, 0, 0, ..., 0, 0, 0],\n",
       "        [0, 0, 0, ..., 0, 0, 0],\n",
       "        ...,\n",
       "        [0, 0, 0, ..., 0, 0, 0],\n",
       "        [0, 0, 0, ..., 0, 0, 0],\n",
       "        [0, 0, 0, ..., 0, 0, 0]],\n",
       "\n",
       "       [[0, 0, 0, ..., 0, 0, 0],\n",
       "        [0, 0, 0, ..., 0, 0, 0],\n",
       "        [0, 0, 0, ..., 0, 0, 0],\n",
       "        ...,\n",
       "        [0, 0, 0, ..., 0, 0, 0],\n",
       "        [0, 0, 0, ..., 0, 0, 0],\n",
       "        [0, 0, 0, ..., 0, 0, 0]],\n",
       "\n",
       "       ...,\n",
       "\n",
       "       [[0, 0, 0, ..., 0, 0, 0],\n",
       "        [0, 0, 0, ..., 0, 0, 0],\n",
       "        [0, 0, 0, ..., 0, 0, 0],\n",
       "        ...,\n",
       "        [0, 0, 0, ..., 0, 0, 0],\n",
       "        [0, 0, 0, ..., 0, 0, 0],\n",
       "        [0, 0, 0, ..., 0, 0, 0]],\n",
       "\n",
       "       [[0, 0, 0, ..., 0, 0, 0],\n",
       "        [0, 0, 0, ..., 0, 0, 0],\n",
       "        [0, 0, 0, ..., 0, 0, 0],\n",
       "        ...,\n",
       "        [0, 0, 0, ..., 0, 0, 0],\n",
       "        [0, 0, 0, ..., 0, 0, 0],\n",
       "        [0, 0, 0, ..., 0, 0, 0]],\n",
       "\n",
       "       [[0, 0, 0, ..., 0, 0, 0],\n",
       "        [0, 0, 0, ..., 0, 0, 0],\n",
       "        [0, 0, 0, ..., 0, 0, 0],\n",
       "        ...,\n",
       "        [0, 0, 0, ..., 0, 0, 0],\n",
       "        [0, 0, 0, ..., 0, 0, 0],\n",
       "        [0, 0, 0, ..., 0, 0, 0]]], dtype=uint8)"
      ]
     },
     "execution_count": 4,
     "metadata": {},
     "output_type": "execute_result"
    }
   ],
   "source": [
    "X_train_digit"
   ]
  },
  {
   "cell_type": "code",
   "execution_count": 5,
   "id": "64478634-adf0-4b22-8f8c-105c38b1f61b",
   "metadata": {},
   "outputs": [
    {
     "data": {
      "image/png": "[encoded data removed]",
      "text/plain": [
       "<Figure size 1000x1000 with 15 Axes>"
      ]
     },
     "metadata": {},
     "output_type": "display_data"
    }
   ],
   "source": [
    "#Names of numbers in the dataset in order\n",
    "col_names = ['Zero','One','Two','Three','Four','Five','Six','Seven','Eight','Nine']\n",
    "\n",
    "#Visualizing the digits\n",
    "plt.figure(figsize=(10,10))\n",
    "for i in range(15):\n",
    "    plt.subplot(5,5,i+1)\n",
    "    plt.xticks([])\n",
    "    plt.yticks([])\n",
    "    plt.imshow(X_train_digit[i], cmap='gray')\n",
    "    plt.xlabel(col_names[y_train_digit[i]])\n",
    "plt.show()"
   ]
  },
  {
   "cell_type": "markdown",
   "id": "467f75d7-1d89-4616-952b-612d38bb8075",
   "metadata": {},
   "source": [
    "1. Naming the digits\n",
    "    col_names = ['Zero','One','Two','Three','Four','Five','Six','Seven','Eight','Nine']\n",
    "    You are making a Python list of strings.\n",
    "    The index 0 corresponds to \"Zero\", index 1 to \"One\", … up to 9.\n",
    "    This way, instead of showing just the number 5, you can display \"Five\" as a label under each image.\n",
    "\n",
    "2. Setting up the figure\n",
    "    plt.figure(figsize=(10,10))\n",
    "    This creates a blank “canvas” for plotting.\n",
    "    figsize=(10,10) means the figure is 10 inches wide × 10 inches tall.\n",
    "    Larger figure → more space for subplots.\n",
    "\n",
    "3. Looping through images\n",
    "    for i in range(15):\n",
    "    This loops from i = 0 up to 14 (so, 15 images total).\n",
    "    You’ll plot the first 15 images from the training set.\n",
    "\n",
    "4. Creating subplots\n",
    "    plt.subplot(5,5,i+1)\n",
    "    You’re dividing the big figure into a grid of 5 rows × 5 columns.\n",
    "    That gives you 25 possible “slots.”\n",
    "    i+1 chooses which slot to put the current image into. (Subplots are numbered starting at 1, not 0.)\n",
    "    So image 0 goes to position 1, image 1 goes to position 2, etc.\n",
    "\n",
    "5. Removing axis ticks\n",
    "    plt.xticks([])\n",
    "    plt.yticks([])\n",
    "    This hides the numbers on the X and Y axes (since we don’t care about pixel coordinates, we just want a clean image).\n",
    "\n",
    "6. Showing the digit image\n",
    "    plt.imshow(X_train_digit[i], cmap='gray')\n",
    "    X_train_digit[i] selects the i-th training image (shape 28×28).\n",
    "    imshow plots it as an image.\n",
    "    cmap='gray' forces it to display in grayscale (instead of using random colors).\n",
    "\n",
    "7. Adding a label under the image\n",
    "    plt.xlabel(col_names[y_train_digit[i]])\n",
    "    y_train_digit[i] gives the label number (e.g., 3).\n",
    "    col_names[3] looks that up in your list → \"Three\".\n",
    "    That string is shown below the image as the X-axis label.\n",
    "\n",
    "8. Displaying all at once\n",
    "    plt.show()\n",
    "    After the loop finishes, plt.show() displays the figure with all 15 images arranged in the 5×5 grid.\n",
    "\n",
    "✅ End result:\n",
    "You get a 5×5 grid of images (though only 15 are filled), each showing a handwritten digit, with a word label like “Zero”, “One”, etc."
   ]
  },
  {
   "cell_type": "code",
   "execution_count": 6,
   "id": "2b3fc2a6-8ec5-4bde-a51e-680b95d7f19a",
   "metadata": {},
   "outputs": [
    {
     "data": {
      "text/plain": [
       "(60000, 28, 28)"
      ]
     },
     "execution_count": 6,
     "metadata": {},
     "output_type": "execute_result"
    }
   ],
   "source": [
    "X_train_digit.shape"
   ]
  },
  {
   "cell_type": "code",
   "execution_count": 7,
   "id": "827cc016-a99a-43d6-80c2-a92ca8068b6f",
   "metadata": {},
   "outputs": [
    {
     "data": {
      "text/plain": [
       "(10000, 28, 28)"
      ]
     },
     "execution_count": 7,
     "metadata": {},
     "output_type": "execute_result"
    }
   ],
   "source": [
    "X_test_digit.shape"
   ]
  },
  {
   "cell_type": "markdown",
   "id": "6f3a9916-4b56-4de6-9928-84b0dd659cea",
   "metadata": {},
   "source": [
    "<h1>Preprocessing the input-Converting 3D to 2D</h1>"
   ]
  },
  {
   "cell_type": "code",
   "execution_count": 8,
   "id": "c250f87f-a364-401b-9d36-362be1d52958",
   "metadata": {},
   "outputs": [],
   "source": [
    "X_train_digit = X_train_digit.reshape(60000, 784)\n",
    "X_test_digit = X_test_digit.reshape(10000, 784)"
   ]
  },
  {
   "cell_type": "markdown",
   "id": "423fffbe-e50e-4501-b13b-dc267b047b65",
   "metadata": {},
   "source": [
    "1. What we have before reshaping\n",
    "    X_train_digit shape is (60000, 28, 28)\n",
    "    60,000 images\n",
    "    each image is 28 × 28 pixels\n",
    "    X_test_digit shape is (10000, 28, 28)\n",
    "    10,000 test images\n",
    "    So right now, each image is stored as a 2D grid (like a tiny 28×28 black-and-white photo).\n",
    "\n",
    "2. What .reshape(60000, 784) does\n",
    "    X_train_digit = X_train_digit.reshape(60000, 784)\n",
    "    28 × 28 = 784 → you’re flattening each 2D image into a 1D vector of 784 numbers.\n",
    "    Shape becomes (60000, 784):\n",
    "    60,000 images\n",
    "    each one is now just a row of 784 pixel values\n",
    "    Similarly for the test set:\n",
    "    X_test_digit = X_test_digit.reshape(10000, 784)\n",
    "    Shape: (10000, 784).\n",
    "\n",
    "3. Why do this?\n",
    "\n",
    "    Some models (like logistic regression, SVM, simple fully-connected neural nets) expect each input to be a flat vector rather than a 2D image.\n",
    "    So:\n",
    "    Before: 28 × 28 grid\n",
    "    After: [784 numbers]\n",
    "    Example (a 3×3 image, just to simplify):\n",
    "    Before (3x3 image):\n",
    "    [ [1, 2, 3],\n",
    "      [4, 5, 6],\n",
    "      [7, 8, 9] ]\n",
    "    After flatten (length 9 vector):\n",
    "    [1, 2, 3, 4, 5, 6, 7, 8, 9]\n",
    "    That’s exactly what .reshape(..., 784) is doing — flattening each image.\n",
    "\n",
    "4. When NOT to reshape\n",
    "    If you plan to use a Convolutional Neural Network (CNN), you should not flatten.\n",
    "    CNNs need the original 2D structure (28, 28, 1) to recognize shapes and patterns in the image.\n",
    "\n",
    "✅ Summary:\n",
    "\n",
    "    Original: (60000, 28, 28) → images as grids\n",
    "    Reshaped: (60000, 784) → images as flat rows\n",
    "    Reason: Many ML models work with vectors, not grids.\n",
    "    \n",
    "    We convert from 3D (60000, 28, 28) → 2D (60000, 784) in ANN because:\n",
    "    ANN requires a flat vector of features for each sample.\n",
    "    Flattening turns each 28×28 image into a single vector of 784 pixel values.\n",
    "    Without this, a dense layer wouldn’t know how to connect weights to the input."
   ]
  },
  {
   "cell_type": "code",
   "execution_count": 9,
   "id": "8e82bfdd-eb49-4625-a995-0dbb76c64113",
   "metadata": {},
   "outputs": [
    {
     "data": {
      "text/plain": [
       "array([7, 2, 1, ..., 4, 5, 6], dtype=uint8)"
      ]
     },
     "execution_count": 9,
     "metadata": {},
     "output_type": "execute_result"
    }
   ],
   "source": [
    "y_test_digit"
   ]
  },
  {
   "cell_type": "code",
   "execution_count": 10,
   "id": "8fb3d79b-154b-4950-af90-da37736f9461",
   "metadata": {},
   "outputs": [],
   "source": [
    "#Encoding Digit MNIST Labels\n",
    "y_train_digit = to_categorical(y_train_digit, num_classes=10)\n",
    "\n",
    "y_test_digit = to_categorical(y_test_digit, num_classes=10)"
   ]
  },
  {
   "cell_type": "markdown",
   "id": "9f6e77f4-578e-4d76-91e4-b699de57da80",
   "metadata": {},
   "source": [
    "1. What the labels look like before encoding\n",
    "\n",
    "    y_train_digit originally is a 1D array of integers.\n",
    "    Example:\n",
    "    y_train_digit[:5] → [5, 0, 4, 1, 9]\n",
    "    Each number is the class label (the digit in the image).\n",
    "\n",
    "   Shape before encoding:\n",
    "        y_train_digit.shape → (60000,)\n",
    "        y_test_digit.shape → (10000,)\n",
    "\n",
    "3. What to_categorical does\n",
    "    from tensorflow.keras.utils import to_categorical\n",
    "    y_train_digit = to_categorical(y_train_digit, num_classes=10)\n",
    "    \n",
    "    to_categorical converts integer labels into one-hot encoded vectors.\n",
    "    num_classes=10 because we have digits 0–9 (10 classes).\n",
    "    \n",
    "    Example:\n",
    "    Digit 5 → [0,0,0,0,0,1,0,0,0,0]\n",
    "    Digit 0 → [1,0,0,0,0,0,0,0,0,0]\n",
    "    Digit 9 → [0,0,0,0,0,0,0,0,0,1]\n",
    "\n",
    "3. Why do we need this?\n",
    "\n",
    "    Neural networks for multi-class classification usually expect the labels in one-hot encoded form.\n",
    "    The output layer of your ANN will have 10 neurons (one for each digit).\n",
    "    The network predicts probabilities, e.g.:\n",
    "    [0.01, 0.02, 0.05, 0.80, 0.01, 0.03, 0.02, 0.02, 0.02, 0.02]\n",
    "    → \"most likely class = 3\" (since 0.80 is highest).\n",
    "    To train the network, you compare this probability vector with the true one-hot vector (e.g., [0,0,0,1,0,0,0,0,0,0] for digit 3).\n",
    "    This comparison is done using categorical crossentropy loss.\n",
    "\n",
    "4. Shape after encoding\n",
    "\n",
    "    y_train_digit.shape → (60000, 10)\n",
    "    y_test_digit.shape → (10000, 10)\n",
    "    So now:\n",
    "    Each row = one image’s label\n",
    "    Each row has 10 entries (0s and one 1)\n",
    "\n",
    "✅ Summary:\n",
    "\n",
    "    Before: labels were numbers (0–9).\n",
    "    After: labels are one-hot encoded vectors of length 10.\n",
    "    Reason: ANN needs this format for multi-class classification."
   ]
  },
  {
   "cell_type": "code",
   "execution_count": 11,
   "id": "033a348c-92f7-4a17-9ae6-a403b79e03bf",
   "metadata": {},
   "outputs": [
    {
     "data": {
      "text/plain": [
       "array([[0., 0., 0., ..., 0., 0., 0.],\n",
       "       [1., 0., 0., ..., 0., 0., 0.],\n",
       "       [0., 0., 0., ..., 0., 0., 0.],\n",
       "       ...,\n",
       "       [0., 0., 0., ..., 0., 0., 0.],\n",
       "       [0., 0., 0., ..., 0., 0., 0.],\n",
       "       [0., 0., 0., ..., 0., 1., 0.]], dtype=float32)"
      ]
     },
     "execution_count": 11,
     "metadata": {},
     "output_type": "execute_result"
    }
   ],
   "source": [
    "y_train_digit"
   ]
  },
  {
   "cell_type": "markdown",
   "id": "079adf91-93ab-4341-bda0-4ae8954171ed",
   "metadata": {},
   "source": [
    "<h1> Model Creation</h1>"
   ]
  },
  {
   "cell_type": "code",
   "execution_count": 12,
   "id": "9d820f3c-051f-448d-a5db-cd1912509f1a",
   "metadata": {},
   "outputs": [],
   "source": [
    "#Creating base neural network\n",
    "model = keras.Sequential([\n",
    "    layers.Dense(256, activation='relu', input_shape=(784,)),\n",
    "    #layers.Dropout(0.3),\n",
    "    #layers.BatchNormalization(),\n",
    "    layers.Dense(64, activation='relu'),\n",
    "    #layers.Dropout(0.3),\n",
    "    #layers.BatchNormalization(),\n",
    "    layers.Dense(64, activation='relu'),\n",
    "    #layers.Dropout(0.3),\n",
    "    #layers.BatchNormalization(),\n",
    "    layers.Dense(10,activation='sigmoid'),\n",
    "])"
   ]
  },
  {
   "cell_type": "markdown",
   "id": "ccb11e13-fd40-42f2-8cf8-be47d47846c9",
   "metadata": {},
   "source": [
    "1. Sequential model\n",
    "    model = keras.Sequential([\n",
    "                            ...\n",
    "                           ])\n",
    "    \n",
    "    Sequential means your model is built as a stack of layers, one after another.\n",
    "    Data flows from the first layer → middle layers → final layer.\n",
    "    Think of it like a pipeline: input → hidden layers → output.\n",
    "\n",
    "3. First layer: Dense(256, …)\n",
    "    layers.Dense(256, activation='relu', input_shape=(784,))\n",
    "    Dense layer = fully connected layer (every input neuron connects to every output neuron).\n",
    "    256 → number of neurons in this layer.\n",
    "    activation='relu' → applies ReLU (Rectified Linear Unit) activation function:\n",
    "        f(x)=max(0,x)\n",
    "    This helps the network learn non-linear patterns.\n",
    "\n",
    "    input_shape=(784,) → each input image has 784 features (flattened 28×28).\n",
    "    So this tells the network: “Expect vectors of length 784 as input.”\n",
    "\n",
    "3. Hidden layers\n",
    "    layers.Dense(64, activation='relu'),\n",
    "    layers.Dense(64, activation='relu'),\n",
    "    These are hidden layers with 64 neurons each.\n",
    "\n",
    "    Again, using ReLU activation.\n",
    "    Their job is to learn progressively more abstract patterns from the data.\n",
    "\n",
    "4. Output layer\n",
    "    layers.Dense(10, activation='sigmoid'),\n",
    "    Dense(10) → 10 output neurons, one for each digit class (0–9).\n",
    "    Activation = 'sigmoid' → gives an output between 0 and 1 for each neuron.\n",
    "\n",
    "⚠️ Note:\n",
    "    For multi-class classification like MNIST, the usual choice is softmax, not sigmoid.\n",
    "    softmax ensures that all 10 outputs add up to 1 (a proper probability distribution).\n",
    "    sigmoid treats each class independently (better for multi-label problems, not single-label classification).\n",
    "\n",
    "    👉 So, this line should usually be:\n",
    "\n",
    "    layers.Dense(10, activation='softmax')\n",
    "\n",
    "5. The commented-out layers\n",
    "    # layers.Dropout(0.3),\n",
    "    # layers.BatchNormalization(),\n",
    "    \n",
    "    \n",
    "    These are useful “add-ons” to improve training:\n",
    "    \n",
    "    Dropout(0.3) → randomly turns off 30% of neurons during training.\n",
    "    Prevents overfitting (model memorizing instead of generalizing).\n",
    "    \n",
    "    BatchNormalization() → normalizes layer outputs for more stable and faster training.\n",
    "    \n",
    "    They’re commented out now (#), but you can enable them later if your model overfits.\n",
    "\n",
    "✅ Summary of your ANN architecture\n",
    "\n",
    "    Input: 784 features (flattened pixels).\n",
    "    Hidden layers:\n",
    "        Dense(256, ReLU)\n",
    "        Dense(64, ReLU)\n",
    "        Dense(64, ReLU)\n",
    "        Output: Dense(10, Softmax) → probability for each digit."
   ]
  },
  {
   "cell_type": "code",
   "execution_count": 13,
   "id": "c701efb9-5096-4418-9ce7-a390fa0dfb7e",
   "metadata": {},
   "outputs": [
    {
     "name": "stdout",
     "output_type": "stream",
     "text": [
      "Model: \"sequential\"\n",
      "_________________________________________________________________\n",
      " Layer (type)                Output Shape              Param #   \n",
      "=================================================================\n",
      " dense (Dense)               (None, 256)               200960    \n",
      "                                                                 \n",
      " dense_1 (Dense)             (None, 64)                16448     \n",
      "                                                                 \n",
      " dense_2 (Dense)             (None, 64)                4160      \n",
      "                                                                 \n",
      " dense_3 (Dense)             (None, 10)                650       \n",
      "                                                                 \n",
      "=================================================================\n",
      "Total params: 222,218\n",
      "Trainable params: 222,218\n",
      "Non-trainable params: 0\n",
      "_________________________________________________________________\n"
     ]
    }
   ],
   "source": [
    "model.summary()"
   ]
  },
  {
   "cell_type": "code",
   "execution_count": 14,
   "id": "1b521d60-500f-4ae4-903e-84da5b848f8f",
   "metadata": {},
   "outputs": [],
   "source": [
    "# For Reference\n",
    "# https://keras.io/api/losses/probabilistic_losses/#sparsecategoricalcrossentropy-class "
   ]
  },
  {
   "cell_type": "code",
   "execution_count": 15,
   "id": "93c782a7-0da3-4d83-98be-3d12d7bf5c71",
   "metadata": {},
   "outputs": [],
   "source": [
    "#Compiling the model\n",
    "model.compile(loss=\"categorical_crossentropy\",\n",
    "              optimizer=\"adam\",\n",
    "              metrics = ['accuracy'])"
   ]
  },
  {
   "cell_type": "markdown",
   "id": "9018619e-0d14-4b78-aa53-8a9086e6cbcb",
   "metadata": {},
   "source": [
    "1. model.compile(...)\n",
    "\n",
    "    compile = configure the learning process.\n",
    "    You’re defining:\n",
    "    loss function → how errors are measured\n",
    "    optimizer → how the model updates weights\n",
    "    metrics → what performance measure to report\n",
    "    Think of it like:\n",
    "    \"I’ve built the engine (model), now I decide what kind of fuel (optimizer), speedometer (metrics), and goal (loss function) I want.\"\n",
    "\n",
    "2. Loss function\n",
    "    loss=\"categorical_crossentropy\"\n",
    "    Loss = a formula that measures how far predictions are from the true labels.\n",
    "    Categorical Crossentropy is the standard choice for multi-class classification with one-hot encoded labels.\n",
    "    Example:\n",
    "    True label (digit 3) = [0,0,0,1,0,0,0,0,0,0]\n",
    "    Predicted probs = [0.01,0.05,0.1,0.7,0.02,0.03,0.01,0.03,0.04,0.01]\n",
    "    Crossentropy measures how close these two distributions are.\n",
    "    Smaller loss → better predictions.\n",
    "    ⚠️ If you had labels as integers (not one-hot), you’d use sparse_categorical_crossentropy instead.\n",
    "\n",
    "3. Optimizer\n",
    "    optimizer=\"adam\"\n",
    "    Optimizer = algorithm that adjusts the weights to reduce loss.\n",
    "    Adam (Adaptive Moment Estimation) is a very popular choice:\n",
    "    Combines the good parts of Momentum and RMSprop optimizers.\n",
    "    Learns efficiently with default settings, so it’s beginner-friendly.\n",
    "    It decides “how big each step should be” when updating weights.\n",
    "\n",
    "4. Metrics\n",
    "    metrics=['accuracy']\n",
    "    Metrics = what performance numbers you want to monitor.\n",
    "    accuracy = percentage of correct predictions.\n",
    "    During training, Keras will show you:\n",
    "    Training accuracy\n",
    "    Validation accuracy (if you give validation data)\n",
    "    So you can see if your model is learning well.\n",
    "\n",
    "✅ Summary:\n",
    "    Loss: Categorical Crossentropy → compare predicted probabilities vs true one-hot labels.\n",
    "    Optimizer: Adam → efficient weight update method.\n",
    "    Metrics: Accuracy → human-readable performance measure."
   ]
  },
  {
   "cell_type": "code",
   "execution_count": 16,
   "id": "3f80ad20-5d09-4117-9dca-56d0835f94b8",
   "metadata": {},
   "outputs": [
    {
     "name": "stdout",
     "output_type": "stream",
     "text": [
      "Epoch 1/10\n",
      "600/600 [==============================] - 4s 5ms/step - loss: 1.4623 - accuracy: 0.8405 - val_loss: 0.3587 - val_accuracy: 0.9103\n",
      "Epoch 2/10\n",
      "600/600 [==============================] - 3s 5ms/step - loss: 0.2796 - accuracy: 0.9241 - val_loss: 0.2552 - val_accuracy: 0.9323\n",
      "Epoch 3/10\n",
      "600/600 [==============================] - 3s 5ms/step - loss: 0.1937 - accuracy: 0.9460 - val_loss: 0.2243 - val_accuracy: 0.9452\n",
      "Epoch 4/10\n",
      "600/600 [==============================] - 3s 5ms/step - loss: 0.1670 - accuracy: 0.9538 - val_loss: 0.1933 - val_accuracy: 0.9532\n",
      "Epoch 5/10\n",
      "600/600 [==============================] - 3s 5ms/step - loss: 0.1385 - accuracy: 0.9608 - val_loss: 0.2296 - val_accuracy: 0.9416\n",
      "Epoch 6/10\n",
      "600/600 [==============================] - 3s 5ms/step - loss: 0.1288 - accuracy: 0.9643 - val_loss: 0.1654 - val_accuracy: 0.9581\n",
      "Epoch 7/10\n",
      "600/600 [==============================] - 3s 5ms/step - loss: 0.1113 - accuracy: 0.9681 - val_loss: 0.1803 - val_accuracy: 0.9564\n",
      "Epoch 8/10\n",
      "600/600 [==============================] - 3s 5ms/step - loss: 0.1049 - accuracy: 0.9706 - val_loss: 0.1609 - val_accuracy: 0.9625\n",
      "Epoch 9/10\n",
      "600/600 [==============================] - 3s 5ms/step - loss: 0.0944 - accuracy: 0.9734 - val_loss: 0.1586 - val_accuracy: 0.9657\n",
      "Epoch 10/10\n",
      "600/600 [==============================] - 3s 5ms/step - loss: 0.0843 - accuracy: 0.9765 - val_loss: 0.1600 - val_accuracy: 0.9608\n"
     ]
    }
   ],
   "source": [
    "history=model.fit(X_train_digit, y_train_digit, batch_size=100, epochs=10,validation_data=(X_test_digit, y_test_digit))"
   ]
  },
  {
   "cell_type": "markdown",
   "id": "53f321bd-874d-4850-9070-73c83714abdb",
   "metadata": {},
   "source": [
    "1. history = model.fit(...)\n",
    "\n",
    "    fit = “fit the model to the data,” i.e., train it.\n",
    "    Keras trains the model using the training data and tracks progress.\n",
    "    The result (history) is an object that stores the loss & accuracy over epochs.\n",
    "\n",
    "2. Training data\n",
    "    X_train_digit, y_train_digit\n",
    "    Input data: X_train_digit (60000 × 784 flattened images).\n",
    "    Labels: y_train_digit (60000 × 10 one-hot encoded labels).\n",
    "\n",
    "3. batch_size=100\n",
    "\n",
    "    Neural networks don’t process all 60,000 images at once (too big for memory).\n",
    "    Instead, they split the dataset into mini-batches.\n",
    "    Here: each batch = 100 samples.\n",
    "    So 60,000 / 100 = 600 batches per epoch.\n",
    "\n",
    "    📌 Process:\n",
    "    Take 100 images → forward pass → calculate loss → backward pass → update weights.\n",
    "    Repeat until all 60,000 images are used once.\n",
    "    That’s one epoch.\n",
    "\n",
    "4. epochs=10\n",
    "\n",
    "    An epoch = one full pass through the training set (all 60,000 images).\n",
    "    You’re training for 10 epochs → the model will see the entire dataset 10 times.\n",
    "    More epochs → better learning, but too many can cause overfitting.\n",
    "\n",
    "5. validation_data=(X_test_digit, y_test_digit)\n",
    "\n",
    "    After each epoch, the model also evaluates on test data (10,000 images).\n",
    "    This gives you validation loss & accuracy.\n",
    "    It helps check if the model is generalizing or just memorizing training data.\n",
    "\n",
    "6. What happens during training\n",
    "\n",
    "    For each epoch:\n",
    "    \n",
    "        Split training data into batches of 100.\n",
    "    \n",
    "    For each batch:\n",
    "    \n",
    "        Forward pass: predict outputs.\n",
    "        Compute loss (categorical crossentropy).\n",
    "        Backward pass: update weights using Adam optimizer.\n",
    "    \n",
    "    At the end of the epoch:\n",
    "    \n",
    "        Compute average training loss & accuracy.\n",
    "        Evaluate on validation data → validation loss & accuracy.\n",
    "\n",
    "7. What history contains\n",
    "\n",
    "    history is a Python object with logs. Example:\n",
    "    history.history\n",
    "    might look like:\n",
    "    \n",
    "    {\n",
    "     'loss': [0.45, 0.30, 0.25, ...],\n",
    "     'accuracy': [0.87, 0.92, 0.94, ...],\n",
    "     'val_loss': [0.40, 0.28, 0.23, ...],\n",
    "     'val_accuracy': [0.89, 0.93, 0.95, ...]\n",
    "    }\n",
    "    \n",
    "    loss → training loss per epoch\n",
    "    accuracy → training accuracy per epoch\n",
    "    val_loss → validation loss per epoch\n",
    "    val_accuracy → validation accuracy per epoch\n",
    "    You can use this to plot learning curves.\n",
    "\n",
    "✅ Summary:\n",
    "\n",
    "    fit trains the model with training data, in mini-batches, over multiple epochs.\n",
    "    Validation data checks generalization.\n",
    "    The history object stores training progress for analysis."
   ]
  },
  {
   "cell_type": "code",
   "execution_count": 17,
   "id": "4040a063-d0ee-4b35-831f-3f14281e6532",
   "metadata": {},
   "outputs": [
    {
     "name": "stdout",
     "output_type": "stream",
     "text": [
      "313/313 [==============================] - 1s 2ms/step - loss: 0.1600 - accuracy: 0.9608\n"
     ]
    }
   ],
   "source": [
    "test_loss_digit, test_acc_digit = model.evaluate(X_test_digit, y_test_digit)"
   ]
  },
  {
   "cell_type": "markdown",
   "id": "bd5480df-31ff-4a4b-9a81-436c710429c8",
   "metadata": {},
   "source": [
    "1. model.evaluate(...)\n",
    "    test_loss_digit, test_acc_digit = model.evaluate(X_test_digit, y_test_digit)\n",
    "    evaluate runs the model on the test set.\n",
    "    It computes the same metrics you specified in model.compile:\n",
    "    The loss (categorical crossentropy here).\n",
    "    The accuracy (since you added metrics=['accuracy']).\n",
    "\n",
    "2. Input parameters\n",
    "\n",
    "    X_test_digit → test images (10,000 × 784 after reshaping).\n",
    "    y_test_digit → test labels (10,000 × 10, one-hot encoded).\n",
    "    These were kept aside during training so you can check generalization.\n",
    "\n",
    "3. Returned values\n",
    "\n",
    "    test_loss_digit → a single number = how well (or badly) the model fits the test data. Lower = better.\n",
    "    test_acc_digit → accuracy on test data (percentage of correct predictions). Higher = better.\n",
    "    Example:\n",
    "    test_loss_digit, test_acc_digit = model.evaluate(X_test_digit, y_test_digit)\n",
    "    print(\"Test Loss:\", test_loss_digit)\n",
    "    print(\"Test Accuracy:\", test_acc_digit)\n",
    "    Might print:\n",
    "    Test Loss: 0.08\n",
    "    Test Accuracy: 0.978\n",
    "    👉 That means the model got 97.8% of test digits correct 🎯\n",
    "\n",
    "4. Why evaluate?\n",
    "    \n",
    "    During training, you saw validation accuracy after each epoch.\n",
    "    But the final test accuracy is the true measure of how good your model is.\n",
    "    This prevents overfitting (memorizing training data only).\n",
    "    ✅ Summary:\n",
    "    evaluate = runs the trained model on new data and reports loss + metrics.\n",
    "    You saved the results into test_loss_digit and test_acc_digit.\n",
    "    This tells you how good your model is at recognizing digits it has never seen before."
   ]
  },
  {
   "cell_type": "code",
   "execution_count": 18,
   "id": "b89cd68b-8daa-4d9b-affe-5dba370705fc",
   "metadata": {},
   "outputs": [
    {
     "name": "stdout",
     "output_type": "stream",
     "text": [
      "Digit MNIST Test accuracy: 0.9608\n"
     ]
    }
   ],
   "source": [
    "print('Digit MNIST Test accuracy:', round(test_acc_digit,4))"
   ]
  },
  {
   "cell_type": "code",
   "execution_count": 19,
   "id": "0cfc5d80-c903-439d-adc3-65343a27b3e2",
   "metadata": {},
   "outputs": [
    {
     "name": "stdout",
     "output_type": "stream",
     "text": [
      "313/313 [==============================] - 1s 2ms/step\n"
     ]
    }
   ],
   "source": [
    "#Predicting the labels-DIGIT\n",
    "y_predict = model.predict(X_test_digit)"
   ]
  },
  {
   "cell_type": "markdown",
   "id": "3ad6f818-d4dc-44c4-a80f-9f9b9c152007",
   "metadata": {},
   "source": [
    "1. What this line does\n",
    "    y_predict = model.predict(X_test_digit)\n",
    "    model.predict(...) runs the model forward on the input data.\n",
    "    Input: X_test_digit (10,000 test images).\n",
    "    Output: y_predict → predicted probabilities for each class (digit 0–9).\n",
    "\n",
    "2. Shape of predictions\n",
    "\n",
    "    Since you have 10,000 test images and 10 output classes:\n",
    "    y_predict.shape = (10000, 10)\n",
    "    Each row = predictions for one image.\n",
    "    Each column = probability of the image being a particular digit.\n",
    "    Example:\n",
    "    y_predict[0]\n",
    "    might give:\n",
    "    [1.2e-05, 0.003, 0.001, 0.97, 0.0002, 0.015, 0.002, 0.004, 0.001, 0.002]\n",
    "    👉 Means:\n",
    "    Model thinks it’s 97% chance the digit is 3.\n",
    "    Small probabilities for other digits.\n",
    "\n",
    "3. Converting probabilities to actual digit labels\n",
    "\n",
    "    Right now, y_predict contains probability vectors. To get the predicted digit, use argmax:\n",
    "    import numpy as np\n",
    "    y_pred_labels = np.argmax(y_predict, axis=1)\n",
    "    argmax finds the index of the maximum probability.\n",
    "    \n",
    "    Example:\n",
    "    [0.01, 0.05, 0.02, 0.90, 0.01, ...] → 3\n",
    "    [0.80, 0.05, 0.05, 0.02, 0.08, ...] → 0\n",
    "    So:\n",
    "    y_pred_labels.shape = (10000,)\n",
    "    Each entry is an integer 0–9.\n",
    "\n",
    "4. Comparing predictions with true labels\n",
    "    y_true_labels = np.argmax(y_test_digit, axis=1)   # convert one-hot back to integers\n",
    "    print(\"First 10 predictions:\", y_pred_labels[:10])\n",
    "    print(\"First 10 true labels:\", y_true_labels[:10])\n",
    "    This shows how well the model matches ground truth.\n",
    "\n",
    "✅ Summary:\n",
    "\n",
    "    model.predict → gives probability scores for each class.\n",
    "    Use argmax → convert probabilities into actual digit predictions.\n",
    "    Compare with test labels → see accuracy in action.        "
   ]
  },
  {
   "cell_type": "code",
   "execution_count": 20,
   "id": "0fc43928-2f33-4a6c-b151-5b08baee580f",
   "metadata": {},
   "outputs": [],
   "source": [
    "y_predicts=np.argmax(y_predict, axis=1) # Here we get the index of maximum value in the encoded vector\n",
    "y_test_digit_eval=np.argmax(y_test_digit, axis=1)"
   ]
  },
  {
   "cell_type": "markdown",
   "id": "0c9da28a-d904-4db3-ace1-346dc507f7f9",
   "metadata": {},
   "source": [
    "1. Prediction side\n",
    "    y_predicts = np.argmax(y_predict, axis=1)\n",
    "    y_predict shape = (10000, 10) → 10,000 rows (test images), 10 columns (probabilities for digits 0–9).\n",
    "    Example for one image:\n",
    "    [0.01, 0.02, 0.05, 0.80, 0.02, 0.05, 0.02, 0.01, 0.01, 0.01]\n",
    "    np.argmax(..., axis=1) → find the index of the largest probability along each row.\n",
    "    Here, max is 0.80 at index 3.\n",
    "    So the predicted class is 3.\n",
    "    Result:\n",
    "    y_predicts.shape = (10000,)\n",
    "    A flat array of predicted labels like:\n",
    "    [3, 0, 4, 1, 9, ...]\n",
    "\n",
    "2. True label side\n",
    "    y_test_digit_eval = np.argmax(y_test_digit, axis=1)\n",
    "    Recall: y_test_digit is one-hot encoded (shape (10000, 10)).\n",
    "    Example for digit 3:\n",
    "    [0, 0, 0, 1, 0, 0, 0, 0, 0, 0]\n",
    "    np.argmax(..., axis=1) → gives index of the 1.\n",
    "    Here, index 3.\n",
    "    Result:\n",
    "    y_test_digit_eval.shape = (10000,)\n",
    "    A flat array of true labels like:\n",
    "    [5, 0, 4, 1, 9, ...]\n",
    "\n",
    "3. Why this step is important\n",
    "\n",
    "    Before: labels were in one-hot encoding (good for training, but not human-readable).\n",
    "    After: both predicted and true labels are simple integers 0–9.\n",
    "    This makes it easy to compare, measure accuracy, or build a confusion matrix.\n",
    "\n",
    "4. Example comparison\n",
    "    print(\"Predicted:\", y_predicts[:10])\n",
    "    print(\"True     :\", y_test_digit_eval[:10])\n",
    "    Might output:\n",
    "    Predicted: [7 2 1 0 4 1 4 9 5 9]\n",
    "    True     : [7 2 1 0 4 1 4 9 5 9]\n",
    "    👉 If they match → model was correct.\n",
    "\n",
    "✅ Summary:\n",
    "    \n",
    "    np.argmax(y_predict, axis=1) → predicted class for each test image.\n",
    "    np.argmax(y_test_digit, axis=1) → true class for each test image.\n",
    "    Both are now integer arrays → easy to compare."
   ]
  },
  {
   "cell_type": "code",
   "execution_count": 21,
   "id": "003ca375-7cd6-4030-be6d-2b9c15a5e32a",
   "metadata": {},
   "outputs": [
    {
     "data": {
      "text/plain": [
       "7"
      ]
     },
     "execution_count": 21,
     "metadata": {},
     "output_type": "execute_result"
    }
   ],
   "source": [
    "y_predicts[0]"
   ]
  },
  {
   "cell_type": "code",
   "execution_count": 22,
   "id": "aec3ce75-0c2f-47b6-815a-d232eb13ae5b",
   "metadata": {},
   "outputs": [
    {
     "data": {
      "text/plain": [
       "array([7, 2, 1, ..., 4, 5, 6], dtype=int64)"
      ]
     },
     "execution_count": 22,
     "metadata": {},
     "output_type": "execute_result"
    }
   ],
   "source": [
    "y_test_digit_eval"
   ]
  },
  {
   "cell_type": "code",
   "execution_count": 23,
   "id": "9234ad85-a1d2-47b7-9b8c-94f8d9b73b24",
   "metadata": {},
   "outputs": [],
   "source": [
    "y_pre=pd.DataFrame(y_predicts)"
   ]
  },
  {
   "cell_type": "code",
   "execution_count": 24,
   "id": "334c230c-11b5-4c7d-bafa-f5525e78ed2f",
   "metadata": {},
   "outputs": [
    {
     "data": {
      "text/html": [
       "<div>\n",
       "<style scoped>\n",
       "    .dataframe tbody tr th:only-of-type {\n",
       "        vertical-align: middle;\n",
       "    }\n",
       "\n",
       "    .dataframe tbody tr th {\n",
       "        vertical-align: top;\n",
       "    }\n",
       "\n",
       "    .dataframe thead th {\n",
       "        text-align: right;\n",
       "    }\n",
       "</style>\n",
       "<table border=\"1\" class=\"dataframe\">\n",
       "  <thead>\n",
       "    <tr style=\"text-align: right;\">\n",
       "      <th></th>\n",
       "      <th>0</th>\n",
       "    </tr>\n",
       "  </thead>\n",
       "  <tbody>\n",
       "    <tr>\n",
       "      <th>0</th>\n",
       "      <td>7</td>\n",
       "    </tr>\n",
       "    <tr>\n",
       "      <th>1</th>\n",
       "      <td>2</td>\n",
       "    </tr>\n",
       "    <tr>\n",
       "      <th>2</th>\n",
       "      <td>1</td>\n",
       "    </tr>\n",
       "    <tr>\n",
       "      <th>3</th>\n",
       "      <td>0</td>\n",
       "    </tr>\n",
       "    <tr>\n",
       "      <th>4</th>\n",
       "      <td>4</td>\n",
       "    </tr>\n",
       "    <tr>\n",
       "      <th>...</th>\n",
       "      <td>...</td>\n",
       "    </tr>\n",
       "    <tr>\n",
       "      <th>9995</th>\n",
       "      <td>2</td>\n",
       "    </tr>\n",
       "    <tr>\n",
       "      <th>9996</th>\n",
       "      <td>3</td>\n",
       "    </tr>\n",
       "    <tr>\n",
       "      <th>9997</th>\n",
       "      <td>4</td>\n",
       "    </tr>\n",
       "    <tr>\n",
       "      <th>9998</th>\n",
       "      <td>5</td>\n",
       "    </tr>\n",
       "    <tr>\n",
       "      <th>9999</th>\n",
       "      <td>4</td>\n",
       "    </tr>\n",
       "  </tbody>\n",
       "</table>\n",
       "<p>10000 rows × 1 columns</p>\n",
       "</div>"
      ],
      "text/plain": [
       "      0\n",
       "0     7\n",
       "1     2\n",
       "2     1\n",
       "3     0\n",
       "4     4\n",
       "...  ..\n",
       "9995  2\n",
       "9996  3\n",
       "9997  4\n",
       "9998  5\n",
       "9999  4\n",
       "\n",
       "[10000 rows x 1 columns]"
      ]
     },
     "execution_count": 24,
     "metadata": {},
     "output_type": "execute_result"
    }
   ],
   "source": [
    "y_pre"
   ]
  },
  {
   "cell_type": "code",
   "execution_count": 25,
   "id": "c195d05f-591e-46d8-8d5a-f68a15e28203",
   "metadata": {},
   "outputs": [
    {
     "data": {
      "text/plain": [
       "array([7, 2, 1, ..., 4, 5, 6], dtype=int64)"
      ]
     },
     "execution_count": 25,
     "metadata": {},
     "output_type": "execute_result"
    }
   ],
   "source": [
    "y_test_digit_eval"
   ]
  },
  {
   "cell_type": "code",
   "execution_count": 27,
   "id": "42fb0550-f64e-45a3-8552-94b9b3b03f41",
   "metadata": {},
   "outputs": [
    {
     "data": {
      "image/png": "[encoded data removed]",
      "text/plain": [
       "<Figure size 1000x1000 with 2 Axes>"
      ]
     },
     "metadata": {},
     "output_type": "display_data"
    }
   ],
   "source": [
    "#Confusion matrix for Digit MNIST\n",
    "con_mat=confusion_matrix(y_test_digit_eval,y_predicts)\n",
    "#plt.style.use('seaborn-deep')\n",
    "sns.set_style(\"whitegrid\")\n",
    "plt.figure(figsize=(10,10))\n",
    "sns.heatmap(con_mat,annot=True,annot_kws={'size': 15},linewidths=0.5,fmt=\"d\",cmap=\"gray\")\n",
    "plt.title('True or False predicted digit MNIST\\n',fontweight='bold',fontsize=15)\n",
    "plt.show()"
   ]
  },
  {
   "cell_type": "markdown",
   "id": "b688342a-a047-4599-92aa-9aa24ca0288b",
   "metadata": {},
   "source": [
    "con_mat = confusion_matrix(y_test_digit_eval, y_predicts)\n",
    "    y_test_digit_eval → true labels (integers 0–9).\n",
    "    \n",
    "    y_predicts → predicted labels (integers 0–9).\n",
    "    \n",
    "    confusion_matrix(...) creates a 10×10 matrix.\n",
    "\n",
    "👉 What it means:\n",
    "\n",
    "    Rows = actual labels (ground truth).\n",
    "    \n",
    "    Columns = predicted labels.\n",
    "    \n",
    "    Each cell (i, j) = number of times digit i was predicted as digit j.\n",
    "    \n",
    "    Example: if the cell at (4,9) = 15, it means:\n",
    "    \n",
    "    The digit 4 was incorrectly predicted as 9 → 15 times.\n",
    "\n",
    "2. Style setup\n",
    "    python\n",
    "    Copy code\n",
    "    plt.style.use('seaborn-deep')\n",
    "    Changes matplotlib’s plot style (colors, background, fonts, etc.).\n",
    "    \n",
    "    \"seaborn-deep\" = a clean style inspired by seaborn.\n",
    "\n",
    "3. Plotting the heatmap\n",
    "    python\n",
    "    Copy code\n",
    "    plt.figure(figsize=(10,10))\n",
    "    sns.heatmap(con_mat, annot=True, annot_kws={'size': 15}, linewidths=0.5, fmt=\"d\", cmap=\"gray\")\n",
    "    sns.heatmap(...) → draws a color-coded grid.\n",
    "    con_mat = confusion matrix data.\n",
    "    annot=True → writes the numbers inside each cell.\n",
    "    annot_kws={'size': 15} → annotation font size.\n",
    "    linewidths=0.5 → thin lines between cells.\n",
    "    fmt=\"d\" → format as integer (not decimal).\n",
    "    cmap=\"gray\" → grayscale color scheme.\n",
    "\n",
    "4. Title\n",
    "    python\n",
    "    Copy code\n",
    "    plt.title('True or False predicted digit MNIST\\n', fontweight='bold', fontsize=15)\n",
    "    Adds a bold, larger title above the heatmap.\n",
    "\n",
    "5. Show the plot\n",
    "    python\n",
    "    Copy code\n",
    "    plt.show()\n",
    "    Displays the confusion matrix.\n",
    "\n",
    "6. How to read the matrix\n",
    "    The diagonal cells (top-left to bottom-right) = correct predictions.\n",
    "    Example: cell (3,3) = number of times digit 3 was correctly predicted as 3.\n",
    "    The off-diagonal cells = mistakes.\n",
    "    Example: cell (5,8) = number of times digit 5 was predicted as 8.\n",
    "    ✅ A perfect model would have all numbers only on the diagonal.\n",
    "    Example (simplified 3×3 case):\n",
    "    css\n",
    "    Copy code\n",
    "             Predicted\n",
    "             0   1   2\n",
    "    True 0  [50   2   1]\n",
    "         1  [ 0  47   3]\n",
    "         2  [ 0   1  49]\n",
    "    Digit 0: predicted correctly 50 times, but twice as 1, once as 2.\n",
    "    Digit 1: predicted correctly 47 times, misclassified 3 times as 2.\n",
    "    Digit 2: predicted correctly 49 times, once misclassified as 1.\n",
    "\n",
    "✅ Summary:\n",
    "\n",
    "    The confusion matrix shows where the model succeeds (diagonal) and where it confuses digits (off-diagonal).\n",
    "    Heatmap makes this very visual.\n",
    "    Great tool to diagnose which digits are tricky (e.g., 4 vs 9, 5 vs 6)."
   ]
  },
  {
   "cell_type": "code",
   "execution_count": 28,
   "id": "a4e9ecfb-63bb-47d3-a0db-4b68adc5603a",
   "metadata": {},
   "outputs": [
    {
     "name": "stdout",
     "output_type": "stream",
     "text": [
      "              precision    recall  f1-score   support\n",
      "\n",
      "           0       0.86      0.98      0.92       980\n",
      "           1       0.96      0.99      0.97      1135\n",
      "           2       0.98      0.92      0.95      1032\n",
      "           3       0.82      0.97      0.89      1010\n",
      "           4       0.74      0.94      0.83       982\n",
      "           5       0.96      0.65      0.78       892\n",
      "           6       0.92      0.58      0.71       958\n",
      "           7       0.97      0.98      0.97      1028\n",
      "           8       0.94      0.96      0.95       974\n",
      "           9       0.93      0.97      0.95      1009\n",
      "\n",
      "    accuracy                           0.90     10000\n",
      "   macro avg       0.91      0.89      0.89     10000\n",
      "weighted avg       0.91      0.90      0.89     10000\n",
      "\n"
     ]
    }
   ],
   "source": [
    "from sklearn.metrics import classification_report\n",
    "\n",
    "print(classification_report(y_test_digit_eval,y_predicts))"
   ]
  },
  {
   "cell_type": "code",
   "execution_count": 29,
   "id": "f3fb2519-e13e-44bd-93e1-a0837a4fe9f9",
   "metadata": {},
   "outputs": [
    {
     "name": "stdout",
     "output_type": "stream",
     "text": [
      "dict_keys(['loss', 'accuracy', 'val_loss', 'val_accuracy'])\n"
     ]
    }
   ],
   "source": [
    "print(history.history.keys())"
   ]
  },
  {
   "cell_type": "code",
   "execution_count": 30,
   "id": "0d4436cf-b07d-42b0-92ca-0158d07dd69a",
   "metadata": {},
   "outputs": [
    {
     "data": {
      "image/png": "[encoded data removed]",
      "text/plain": [
       "<Figure size 640x480 with 1 Axes>"
      ]
     },
     "metadata": {},
     "output_type": "display_data"
    }
   ],
   "source": [
    "# summarize history for accuracy\n",
    "plt.plot(history.history['accuracy'])\n",
    "plt.plot(history.history['val_accuracy'])\n",
    "plt.title('model accuracy')\n",
    "plt.ylabel('accuracy')\n",
    "plt.xlabel('epoch')\n",
    "plt.legend(['train', 'test'], loc='best')\n",
    "plt.show()"
   ]
  },
  {
   "cell_type": "markdown",
   "id": "13ab7906-f13f-4aac-8e54-2975dfeeb4d5",
   "metadata": {},
   "source": [
    "# plot training accuracy\n",
    "plt.plot(history.history['accuracy'])\n",
    "    This plots the training accuracy for each epoch (x-axis = epoch number, y-axis = accuracy).\n",
    "    \n",
    "    history.history['accuracy'] is a list with one value per epoch.\n",
    "\n",
    "# plot validation accuracy\n",
    "plt.plot(history.history['val_accuracy'])\n",
    "    This plots the validation accuracy (using your test data) for each epoch.\n",
    "\n",
    "    It helps check if the model is overfitting (when training accuracy goes up, but validation accuracy stops improving or goes down).\n",
    "\n",
    "\n",
    "plt.title('model accuracy')\n",
    "plt.ylabel('accuracy')\n",
    "plt.xlabel('epoch')\n",
    "plt.legend(['train', 'test'], loc='best')\n",
    "    Adds title and axis labels.\n",
    "    legend(['train','test']) means:\n",
    "    Blue line (first plot) = training accuracy\n",
    "    Orange line (second plot) = validation (test) accuracy\n",
    "\n",
    "plt.show()\n",
    "    Finally shows the graph.\n",
    "\n",
    "✅ What you’ll see\n",
    "    X-axis (epoch): how many times the dataset was passed through the model.\n",
    "    Y-axis (accuracy): how well the model predicted correctly.\n",
    "    Two lines:\n",
    "    Training accuracy (usually rising quickly).\n",
    "    Validation accuracy (should also rise, but may flatten out earlier).\n"
   ]
  },
  {
   "cell_type": "code",
   "execution_count": 31,
   "id": "c2af9d86-e678-499e-8096-984b4c190991",
   "metadata": {},
   "outputs": [
    {
     "data": {
      "image/png": "[encoded data removed]",
      "text/plain": [
       "<Figure size 640x480 with 1 Axes>"
      ]
     },
     "metadata": {},
     "output_type": "display_data"
    }
   ],
   "source": [
    "# summarize history for loss\n",
    "plt.plot(history.history['loss'])\n",
    "plt.plot(history.history['val_loss'])\n",
    "plt.title('model loss')\n",
    "plt.ylabel('loss')\n",
    "plt.xlabel('epoch')\n",
    "plt.legend(['train', 'test'], loc='best')\n",
    "plt.show()"
   ]
  },
  {
   "cell_type": "markdown",
   "id": "68b6fd65-f3ee-4f55-aed4-dcad0a26cbd3",
   "metadata": {},
   "source": [
    "plt.plot(history.history['loss'])\n",
    "    Plots the training loss (how much error the model makes on the training set) after each epoch.\n",
    "\n",
    "plt.plot(history.history['val_loss'])\n",
    "    Plots the validation loss (error on the test/validation set) after each epoch.\n",
    "\n",
    "plt.title('model loss')\n",
    "plt.ylabel('loss')\n",
    "plt.xlabel('epoch')\n",
    "plt.legend(['train', 'test'], loc='best')\n",
    "plt.show()\n",
    "    Adds labels, legend, and displays the graph.\n",
    "\n",
    "✅ What the graph tells you\n",
    "    \n",
    "    Loss is the opposite of accuracy → lower is better.\n",
    "    Training loss should go down steadily as the model learns.\n",
    "    Validation loss should also go down, but:\n",
    "    If it starts going up while training loss goes down → overfitting (the model is memorizing training data instead of generalizing).\n",
    "    If both losses stay high → underfitting (the model is too simple or not trained enough).\n",
    "    If both go down and stabilize close to each other → ✅ good fit.\n",
    "\n",
    "🔁 Together with accuracy plot\n",
    "\n",
    "    Accuracy curve shows how well the model predicts correctly.\n",
    "    Loss curve shows how much error remains.\n",
    "    Both together help you judge the model’s learning behavior."
   ]
  },
  {
   "cell_type": "code",
   "execution_count": 32,
   "id": "9a6cd471-873b-4f96-9fec-45cc2ddc628b",
   "metadata": {},
   "outputs": [
    {
     "name": "stdout",
     "output_type": "stream",
     "text": [
      "1/1 [==============================] - 0s 106ms/step\n"
     ]
    }
   ],
   "source": [
    "#tf.expand_dims(X_test_digit[0])\n",
    "y_predict_single = model.predict(X_test_digit[[2]])\n",
    "y_predicts_single=np.argmax(y_predict_single, axis=1) # Here we get the index of maximum value in the encoded vector\n",
    "y_test_digit_eval=np.argmax(y_test_digit, axis=1)"
   ]
  },
  {
   "cell_type": "markdown",
   "id": "f8413284-adde-44aa-9977-98c019ce1ce1",
   "metadata": {},
   "source": [
    "# tf.expand_dims(X_test_digit[0])\n",
    "    (Commented out) → tf.expand_dims is a way to add an extra dimension so the model sees the input as a batch.\n",
    "    Neural networks expect 2D input for Dense layers: (batch_size, features).\n",
    "    A single image has shape (784,), but the model expects (1, 784).\n",
    "\n",
    "    tf.expand_dims(X_test_digit[0], axis=0) changes shape from (784,) → (1, 784).\n",
    "\n",
    "\n",
    "y_predict_single = model.predict(X_test_digit[[2]])\n",
    "    Here, you’re passing one test sample (X_test_digit[[2]]) to the model.\n",
    "    [[2]] keeps the batch dimension (so shape becomes (1, 784) instead of (784,)).\n",
    "    The model outputs a probability vector of length 10 (since we have 10 digits: 0–9). Example:\n",
    "    [[1.2e-04, 3.5e-05, 0.99, 0.0001, 0.00002, ...]]\n",
    "    → this means the model is ~99% confident the digit is 2.\n",
    "\n",
    "\n",
    "y_predicts_single = np.argmax(y_predict_single, axis=1)\n",
    "    np.argmax finds the index of the maximum probability.\n",
    "    If the output was [0.01, 0.02, 0.95, ...], the max is at index 2.\n",
    "    So the predicted label = 2.\n",
    "\n",
    "y_test_digit_eval = np.argmax(y_test_digit, axis=1)\n",
    "    Your test labels (y_test_digit) were one-hot encoded (e.g., 2 → [0,0,1,0,0,0,0,0,0,0]).\n",
    "\n",
    "    np.argmax(..., axis=1) converts them back into normal integers ([2] instead of one-hot).\n",
    "\n",
    "✅ Result\n",
    "    y_predicts_single → model’s prediction for sample #2.\n",
    "    y_test_digit_eval[2] → the true label for that same test sample.\n",
    "    So check:\n",
    "    print(\"Predicted:\", y_predicts_single[0])\n",
    "    print(\"Actual:\", y_test_digit_eval[2])"
   ]
  },
  {
   "cell_type": "code",
   "execution_count": 33,
   "id": "8bf76cef-656f-4254-92a2-3c78a1562fcf",
   "metadata": {},
   "outputs": [
    {
     "data": {
      "text/plain": [
       "1"
      ]
     },
     "execution_count": 33,
     "metadata": {},
     "output_type": "execute_result"
    }
   ],
   "source": [
    "y_predicts_single[0]"
   ]
  },
  {
   "cell_type": "code",
   "execution_count": 34,
   "id": "99412ec0-9086-41b4-9bc1-4f71acce980a",
   "metadata": {},
   "outputs": [
    {
     "data": {
      "image/png": "[encoded data removed]",
      "text/plain": [
       "<Figure size 640x480 with 1 Axes>"
      ]
     },
     "metadata": {},
     "output_type": "display_data"
    }
   ],
   "source": [
    "#Names of numbers in the dataset in order\n",
    "col_names = ['Zero','One','Two','Three','Four','Five','Six','Seven','Eight','Nine']\n",
    "\n",
    "#Visualizing the digits\n",
    "#plt.figure(figsize=(10,10))\n",
    "plt.imshow(X_test_digit[2].reshape(28,28), cmap='gray')\n",
    "plt.xlabel(\"Actual:{},Pred:{}\".format(col_names[np.argmax(y_test_digit[2])],col_names[y_predicts_single[0]]))\n",
    "plt.show()"
   ]
  },
  {
   "cell_type": "code",
   "execution_count": null,
   "id": "5a36a0bb-fa59-4c60-af55-fdfc94d14358",
   "metadata": {},
   "outputs": [],
   "source": [
    "col_names = ['Zero','One','Two','Three','Four','Five','Six','Seven','Eight','Nine']\n",
    "    A list to convert digit numbers (0–9) into human-readable names (\"Zero\", \"One\", …).\n",
    "\n",
    "plt.imshow(X_test_digit[2].reshape(28,28), cmap='gray')\n",
    "    X_test_digit[2] → the third test image.\n",
    "\n",
    "    Earlier, we reshaped test data into (10000, 784) (2D).\n",
    "\n",
    "    Now we reshape back to (28, 28) so imshow can display it as an image.\n",
    "\n",
    "cmap='gray' → shows the digit in grayscale.\n",
    "\n",
    "    plt.xlabel(\"Actual:{},Pred:{}\".format(\n",
    "        col_names[np.argmax(y_test_digit[2])],   # true label\n",
    "        col_names[y_predicts_single[0]]          # predicted label\n",
    "    ))\n",
    "    np.argmax(y_test_digit[2]) → finds the true digit (because labels are one-hot encoded).\n",
    "\n",
    "    y_predicts_single[0] → model’s predicted digit.\n",
    "\n",
    "    Both are mapped to words using col_names.\n",
    "\n",
    "    Example: \"Actual: Two, Pred: Two\".\n",
    "\n",
    "plt.show()\n",
    "    Displays the digit image with the label text under it.\n",
    "\n",
    "✅ Output\n",
    "    You’ll see the digit image (for sample index 2).\n",
    "\n",
    "Below it, the text:\n",
    "    Actual: Two, Pred: Two"
   ]
  },
  {
   "cell_type": "code",
   "execution_count": 35,
   "id": "8e35ee5e-8b45-46e4-b5eb-1850e0f0cb56",
   "metadata": {},
   "outputs": [
    {
     "data": {
      "text/plain": [
       "array([0., 0., 0., 0., 0., 1., 0., 0., 0., 0.], dtype=float32)"
      ]
     },
     "execution_count": 35,
     "metadata": {},
     "output_type": "execute_result"
    }
   ],
   "source": [
    "y_test_digit[8]"
   ]
  },
  {
   "cell_type": "code",
   "execution_count": null,
   "id": "3ed3ef48-cd0c-4202-b616-2b87aec1849d",
   "metadata": {},
   "outputs": [],
   "source": []
  }
 ],
 "metadata": {
  "kernelspec": {
   "display_name": "deeplearning",
   "language": "python",
   "name": "aidl_env"
  },
  "language_info": {
   "codemirror_mode": {
    "name": "ipython",
    "version": 3
   },
   "file_extension": ".py",
   "mimetype": "text/x-python",
   "name": "python",
   "nbconvert_exporter": "python",
   "pygments_lexer": "ipython3",
   "version": "3.9.23"
  }
 },
 "nbformat": 4,
 "nbformat_minor": 5
}
